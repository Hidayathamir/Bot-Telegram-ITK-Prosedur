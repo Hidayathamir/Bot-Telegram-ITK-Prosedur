{
  "nbformat": 4,
  "nbformat_minor": 0,
  "metadata": {
    "colab": {
      "name": "Bot Telegram ITK prosedur.ipynb",
      "provenance": [],
      "collapsed_sections": [],
      "authorship_tag": "ABX9TyO0LMBeAxN94mqahV9u2Bk7",
      "include_colab_link": true
    },
    "kernelspec": {
      "name": "python3",
      "display_name": "Python 3"
    }
  },
  "cells": [
    {
      "cell_type": "markdown",
      "metadata": {
        "id": "view-in-github",
        "colab_type": "text"
      },
      "source": [
        "<a href=\"https://colab.research.google.com/github/Hidayathamir/Bot-Telegram-ITK-Prosedur/blob/main/Bot_Telegram_ITK_Prosedur.ipynb\" target=\"_parent\"><img src=\"https://colab.research.google.com/assets/colab-badge.svg\" alt=\"Open In Colab\"/></a>"
      ]
    },
    {
      "cell_type": "code",
      "metadata": {
        "colab": {
          "base_uri": "https://localhost:8080/"
        },
        "id": "J9y3Clcb4_cP",
        "outputId": "cfdd76a8-7937-4507-a02f-0cc2f792df76"
      },
      "source": [
        "!pip install python-telegram-bot"
      ],
      "execution_count": null,
      "outputs": [
        {
          "output_type": "stream",
          "text": [
            "Requirement already satisfied: python-telegram-bot in /usr/local/lib/python3.6/dist-packages (13.1)\n",
            "Requirement already satisfied: APScheduler==3.6.3 in /usr/local/lib/python3.6/dist-packages (from python-telegram-bot) (3.6.3)\n",
            "Requirement already satisfied: certifi in /usr/local/lib/python3.6/dist-packages (from python-telegram-bot) (2020.12.5)\n",
            "Requirement already satisfied: cryptography in /usr/local/lib/python3.6/dist-packages (from python-telegram-bot) (3.3.1)\n",
            "Requirement already satisfied: pytz>=2018.6 in /usr/local/lib/python3.6/dist-packages (from python-telegram-bot) (2018.9)\n",
            "Requirement already satisfied: decorator>=4.4.0 in /usr/local/lib/python3.6/dist-packages (from python-telegram-bot) (4.4.2)\n",
            "Requirement already satisfied: tornado>=5.1 in /usr/local/lib/python3.6/dist-packages (from python-telegram-bot) (5.1.1)\n",
            "Requirement already satisfied: six>=1.4.0 in /usr/local/lib/python3.6/dist-packages (from APScheduler==3.6.3->python-telegram-bot) (1.15.0)\n",
            "Requirement already satisfied: setuptools>=0.7 in /usr/local/lib/python3.6/dist-packages (from APScheduler==3.6.3->python-telegram-bot) (51.0.0)\n",
            "Requirement already satisfied: tzlocal>=1.2 in /usr/local/lib/python3.6/dist-packages (from APScheduler==3.6.3->python-telegram-bot) (1.5.1)\n",
            "Requirement already satisfied: cffi>=1.12 in /usr/local/lib/python3.6/dist-packages (from cryptography->python-telegram-bot) (1.14.4)\n",
            "Requirement already satisfied: pycparser in /usr/local/lib/python3.6/dist-packages (from cffi>=1.12->cryptography->python-telegram-bot) (2.20)\n"
          ],
          "name": "stdout"
        }
      ]
    },
    {
      "cell_type": "code",
      "metadata": {
        "id": "Zn48QwPK5BzX"
      },
      "source": [
        "from telegram.ext import (Updater, ConversationHandler, CommandHandler, MessageHandler, Filters)\r\n",
        "import pandas as pd\r\n",
        "import numpy as np\r\n",
        "\r\n",
        "data = pd.read_csv('prosedur.csv', sep=';')"
      ],
      "execution_count": null,
      "outputs": []
    },
    {
      "cell_type": "code",
      "metadata": {
        "id": "8WwmpUwx7VLo"
      },
      "source": [
        "updater = Updater('1469498569:AAF034cqrfpACxygnZry059Y3UZv3Qt9cnQ', use_context=True)\r\n",
        "dp = updater.dispatcher\r\n",
        "# ------------------------------------------------------------ #\r\n",
        "\r\n",
        "\r\n",
        "def start(update, context):\r\n",
        "  text = 'Hallo, silahkan lihat /menu yang tersedia.'\r\n",
        "  update.message.reply_text(text)\r\n",
        "  return ConversationHandler.END\r\n",
        "\r\n",
        "start_handler = CommandHandler('start', start)\r\n",
        "dp.add_handler(start_handler)\r\n",
        "# ------------------------------------------------------------ #\r\n",
        "\r\n",
        "\r\n",
        "def menu(update, context):\r\n",
        "  text = 'Berikut adalah menu yang tersedia.\\n'\r\n",
        "  text += '1. /prosedur - Menampilkan seluruh prosedur yang tersedia.\\n'\r\n",
        "  text += '2. /cariprosedur - Cari prosedur sesuai keyword.'\r\n",
        "  update.message.reply_text(text)\r\n",
        "  return ConversationHandler.END\r\n",
        "\r\n",
        "menu_handler = CommandHandler('menu', menu)\r\n",
        "dp.add_handler(menu_handler)\r\n",
        "# ------------------------------------------------------------ #\r\n",
        "\r\n",
        "\r\n",
        "def prosedur(update, context):\r\n",
        "  text = 'Berikut adalah prosedur yang tersedia.\\n'\r\n",
        "  no = 1\r\n",
        "  for row in data.itertuples():\r\n",
        "    text += str(no) + '. ' + row.nama_prosedur + ' /prosedur_' + str(row.id) + '\\n'\r\n",
        "    no += 1\r\n",
        "  update.message.reply_text(text)\r\n",
        "  return ConversationHandler.END\r\n",
        "\r\n",
        "prosedur_handler = CommandHandler('prosedur', prosedur)\r\n",
        "dp.add_handler(prosedur_handler)\r\n",
        "# ------------------------------------------------------------ #\r\n",
        "\r\n",
        "\r\n",
        "QUERY = range(1)\r\n",
        "def cariprosedur(update, context):\r\n",
        "  update.message.reply_text('Masukkan judul prosedur yang dicari.')\r\n",
        "  return QUERY\r\n",
        "\r\n",
        "def hasilcariprosedur(update, context):\r\n",
        "  query = update.message.text.strip().lower()\r\n",
        "\r\n",
        "  datum = data[data['nama_prosedur'].str.lower().str.contains(query)].copy()\r\n",
        "  if datum.empty:\r\n",
        "    text = 'Tidak ditemukan pencarian dengan keyword : ' + query\r\n",
        "  else:\r\n",
        "    text = 'Berikut adalah hasil pencarian dengan keyword : ' + query + '.\\n\\n'\r\n",
        "    no = 1\r\n",
        "    for row in datum.itertuples():\r\n",
        "      text += str(no) + '. ' + row.nama_prosedur + ' /prosedur_' + str(row.id) + '\\n'\r\n",
        "      no += 1\r\n",
        "  update.message.reply_text(text)\r\n",
        "  return ConversationHandler.END\r\n",
        "\r\n",
        "obrolancariprosedur = ConversationHandler(\r\n",
        "    entry_points=[CommandHandler('cariprosedur', cariprosedur)],\r\n",
        "    states={QUERY: [MessageHandler(Filters.text, hasilcariprosedur)]},\r\n",
        "    fallbacks=[]\r\n",
        ")\r\n",
        "dp.add_handler(obrolancariprosedur)\r\n",
        "# ------------------------------------------------------------ #\r\n",
        "\r\n",
        "\r\n",
        "def unknown(update, context):\r\n",
        "  query = update.message.text.strip().lower()\r\n",
        "  if 'prosedur_' in query:\r\n",
        "    id = query.replace('/prosedur_', '').strip()\r\n",
        "    text = get_langkah_prosedur(id)\r\n",
        "    update.message.reply_text(text)\r\n",
        "\r\n",
        "def get_langkah_prosedur(id):\r\n",
        "  id = int(id)\r\n",
        "  text = 'Tidak ada prosedur dengan id ' + str(id)\r\n",
        "  datum = None\r\n",
        "  try:\r\n",
        "    datum = data[data.id.eq(id)].iloc[0].copy()\r\n",
        "  except:\r\n",
        "    pass\r\n",
        "  if not (datum is None):\r\n",
        "    text = 'Berikut adalah langkah prosedur ' + datum.nama_prosedur + '\\n' + datum.prosedur\r\n",
        "  return text\r\n",
        "\r\n",
        "unknown_handler = MessageHandler(Filters.command, unknown)\r\n",
        "dp.add_handler(unknown_handler)\r\n",
        "# ------------------------------------------------------------ #\r\n",
        "\r\n",
        "\r\n",
        "updater.start_polling()\r\n",
        "updater.idle()"
      ],
      "execution_count": null,
      "outputs": []
    },
    {
      "cell_type": "code",
      "metadata": {
        "id": "aX-7H1wsHPf2"
      },
      "source": [
        ""
      ],
      "execution_count": null,
      "outputs": []
    }
  ]
}